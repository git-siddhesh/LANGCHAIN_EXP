{
 "cells": [
  {
   "cell_type": "code",
   "execution_count": 1,
   "metadata": {},
   "outputs": [],
   "source": [
    "# In[]: Environment Setup\n",
    "#______________________________________________________________________________________________________________________\n",
    "import os\n",
    "# os.environ['OPENAI_API_KEY'] = ''\n",
    "from dotenv import load_dotenv\n",
    "load_dotenv()\n",
    "from langchain.llms import OpenAI\n",
    "from langchain.prompts import (PromptTemplate, FewShotPromptTemplate)\n",
    "from langchain.memory import ConversationBufferMemory \n",
    "from langchain.chains import (LLMChain, SimpleSequentialChain, SequentialChain)\n",
    "import streamlit as st\n",
    "\n",
    "\n",
    "llm = OpenAI(temperature=0.8)"
   ]
  },
  {
   "cell_type": "markdown",
   "metadata": {},
   "source": [
    "Single prompt variable type prompt"
   ]
  },
  {
   "cell_type": "code",
   "execution_count": 2,
   "metadata": {},
   "outputs": [
    {
     "data": {
      "text/plain": [
       "'I am required to pay tax this year. I am a fresher and I have no idea how to do it. Can you please help me with tax filing in India?'"
      ]
     },
     "execution_count": 2,
     "metadata": {},
     "output_type": "execute_result"
    }
   ],
   "source": [
    "myTemplate = \"I am required to pay tax this year. I am a fresher and I have no idea how to do it. Can you please help me with tax filing in {contry}?\"\n",
    "\n",
    "prompt = PromptTemplate(\n",
    "    input_variables = ['contry'],\n",
    "    template = myTemplate\n",
    ")\n",
    "\n",
    "prompt.format(contry='India')"
   ]
  },
  {
   "cell_type": "code",
   "execution_count": 4,
   "metadata": {},
   "outputs": [
    {
     "data": {
      "text/plain": [
       "'\\n\\nYes, certainly. Tax filing in India can seem confusing and difficult for a fresher, however with the right guidance, it can be a straightforward process. The first step is to register for an Income Tax Account Number (ITAN) from the e-filing portal of the Income Tax Department of India. After you have registered, you can file your taxes online or you can take the help of a chartered accountant or tax filing service provider. They will help you file your taxes based on your income and other tax-related details. They will also provide you with guidance and support throughout the process.'"
      ]
     },
     "execution_count": 4,
     "metadata": {},
     "output_type": "execute_result"
    }
   ],
   "source": [
    "uno_chain = LLMChain(llm=llm, prompt=prompt)\n",
    "uno_chain.run('India')"
   ]
  },
  {
   "cell_type": "markdown",
   "metadata": {},
   "source": [
    "### Multi variable prompt\n",
    "\n",
    "Language translation"
   ]
  },
  {
   "cell_type": "code",
   "execution_count": 10,
   "metadata": {},
   "outputs": [
    {
     "data": {
      "text/plain": [
       "'Can you please translate the following text : \"How are you?\" to Hindi?'"
      ]
     },
     "execution_count": 10,
     "metadata": {},
     "output_type": "execute_result"
    }
   ],
   "source": [
    "lang_prompt = PromptTemplate(\n",
    "    input_variables = ['source_text', 'target_language'],\n",
    "    template = \"Can you please translate the following text : {source_text} to {target_language}?\",\n",
    ")\n",
    "\n",
    "lang_prompt.format(source_text='\"How are you?\"', target_language='Hindi')"
   ]
  },
  {
   "cell_type": "code",
   "execution_count": 15,
   "metadata": {},
   "outputs": [
    {
     "data": {
      "text/plain": [
       "'\\n\\nआप कैसे हैं?'"
      ]
     },
     "execution_count": 15,
     "metadata": {},
     "output_type": "execute_result"
    }
   ],
   "source": [
    "dos_chain = LLMChain(llm=llm, prompt=lang_prompt)\n",
    "dos_chain.run(source_text='\"How are you?\"', target_language='Hindi')"
   ]
  },
  {
   "cell_type": "code",
   "execution_count": 16,
   "metadata": {},
   "outputs": [
    {
     "data": {
      "text/plain": [
       "'\\n\\nतुम कैसे हो?'"
      ]
     },
     "execution_count": 16,
     "metadata": {},
     "output_type": "execute_result"
    }
   ],
   "source": [
    "dos_chain.run({'source_text':'\"How are you?\"', 'target_language':'Hindi'})"
   ]
  },
  {
   "cell_type": "code",
   "execution_count": 19,
   "metadata": {},
   "outputs": [
    {
     "data": {
      "text/plain": [
       "{'source_text': '\"How are you?\"',\n",
       " 'target_language': 'Hindi',\n",
       " 'text': '\\n\\nतुम कैसे हो?'}"
      ]
     },
     "execution_count": 19,
     "metadata": {},
     "output_type": "execute_result"
    }
   ],
   "source": [
    "# to get the output in json format \n",
    "dos_chain({'source_text':'\"How are you?\"', 'target_language':'Hindi'})"
   ]
  },
  {
   "cell_type": "markdown",
   "metadata": {},
   "source": [
    "# Few shot Prompt "
   ]
  },
  {
   "cell_type": "code",
   "execution_count": 28,
   "metadata": {},
   "outputs": [
    {
     "data": {
      "text/plain": [
       "'The antonym of happy is sad.'"
      ]
     },
     "execution_count": 28,
     "metadata": {},
     "output_type": "execute_result"
    }
   ],
   "source": [
    "from langchain.prompts import FewShotPromptTemplate\n",
    "# or from langchain import FewShotPromptTemplate \n",
    "\n",
    "examples = [\n",
    "    {'word': \"happy\", 'antonym': \"sad\"}, # example 1\n",
    "    {'word': \"tall\", 'antonym': \"short\"}, # example 2\n",
    "]\n",
    "\n",
    "prompt = PromptTemplate(\n",
    "    input_variables = ['word', 'antonym'],\n",
    "    template = \"The antonym of {word} is {antonym}.\",\n",
    ")\n",
    "\n",
    "prompt.format(word='happy', antonym='sad')"
   ]
  },
  {
   "cell_type": "code",
   "execution_count": 35,
   "metadata": {},
   "outputs": [
    {
     "name": "stdout",
     "output_type": "stream",
     "text": [
      "Write the antonym of the following words:\n",
      "\n",
      "The antonym of happy is sad.\n",
      "The antonym of tall is short.\n",
      "then for word: happy, antonym will be ...\n"
     ]
    }
   ],
   "source": [
    "few_shot_prompt = FewShotPromptTemplate(\n",
    "    input_variables = ['input'],\n",
    "    example_prompt=prompt,\n",
    "    examples = examples,\n",
    "\n",
    "    prefix=\"Write the antonym of the following words:\\n\",\n",
    "    suffix=\"then for word: {input}, antonym will be ...\",\n",
    "    example_separator='\\n',\n",
    ")\n",
    "\n",
    "print(few_shot_prompt.format(input='happy'))"
   ]
  },
  {
   "cell_type": "code",
   "execution_count": 36,
   "metadata": {},
   "outputs": [
    {
     "data": {
      "text/plain": [
       "' sad'"
      ]
     },
     "execution_count": 36,
     "metadata": {},
     "output_type": "execute_result"
    }
   ],
   "source": [
    "chain3 = LLMChain(llm=llm, prompt=few_shot_prompt)\n",
    "chain3.run(input='happy')"
   ]
  },
  {
   "cell_type": "markdown",
   "metadata": {},
   "source": [
    "### Example 2"
   ]
  },
  {
   "cell_type": "code",
   "execution_count": 42,
   "metadata": {},
   "outputs": [
    {
     "name": "stdout",
     "output_type": "stream",
     "text": [
      "The input prompt is :  The addition of 8 to 2 will be 82.\n",
      "operator overloading of + over strings :\n",
      "\n",
      "The addition of 1 to 1 will be 11.\n",
      "The addition of 2 to 2 will be 22.\n",
      "The addition of 3 to 7 will be 37.\n",
      ":then the sum of 4 and 5 will be ...\n"
     ]
    }
   ],
   "source": [
    "examples = [\n",
    "    {'num1': \"1\",\n",
    "        'num2': '1',\n",
    "        'sum': '11'}, # example 1\n",
    "    {'num1': \"2\",\n",
    "        'num2': '2',\n",
    "        'sum': '22'}, # example 2\n",
    "    {'num1': \"3\",\n",
    "        'num2': '7',\n",
    "        'sum': '37'\n",
    "    }, # example 3\n",
    "]\n",
    "\n",
    "prompt = PromptTemplate(\n",
    "    input_variables = ['num1', 'num2', 'sum'],\n",
    "    template = \"The addition of {num1} to {num2} will be {sum}.\",\n",
    ")\n",
    "\n",
    "print(\"The input prompt is : \",prompt.format(num1='8', num2='2', sum='82'))\n",
    "\n",
    "few_shot_prompt = FewShotPromptTemplate(\n",
    "    input_variables = ['input1', 'input2'],\n",
    "    example_prompt=prompt,\n",
    "    examples = examples,\n",
    "\n",
    "    prefix=\"operator overloading of + over strings :\\n\",\n",
    "    suffix=\":then the sum of {input1} and {input2} will be ...\",\n",
    "    example_separator='\\n',\n",
    ")\n",
    "\n",
    "print(few_shot_prompt.format(input1='4', input2='5'))"
   ]
  },
  {
   "cell_type": "code",
   "execution_count": 45,
   "metadata": {},
   "outputs": [
    {
     "name": "stdout",
     "output_type": "stream",
     "text": [
      "\n",
      "\n",
      "45\n"
     ]
    }
   ],
   "source": [
    "chain3 = LLMChain(llm=llm, prompt=few_shot_prompt)\n",
    "# chain3({'input1':'4', 'input2':'5'})\n",
    "print(chain3.run(input1='4', input2='5'))"
   ]
  },
  {
   "cell_type": "code",
   "execution_count": null,
   "metadata": {},
   "outputs": [],
   "source": []
  }
 ],
 "metadata": {
  "kernelspec": {
   "display_name": "Python 3",
   "language": "python",
   "name": "python3"
  },
  "language_info": {
   "codemirror_mode": {
    "name": "ipython",
    "version": 3
   },
   "file_extension": ".py",
   "mimetype": "text/x-python",
   "name": "python",
   "nbconvert_exporter": "python",
   "pygments_lexer": "ipython3",
   "version": "3.11.5"
  }
 },
 "nbformat": 4,
 "nbformat_minor": 2
}
