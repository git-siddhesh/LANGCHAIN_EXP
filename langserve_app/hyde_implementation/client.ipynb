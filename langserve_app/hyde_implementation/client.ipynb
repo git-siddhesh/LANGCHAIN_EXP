{
 "cells": [
  {
   "cell_type": "code",
   "execution_count": 1,
   "metadata": {},
   "outputs": [],
   "source": [
    "# method 1:\n",
    "#---------------------------------------------------------------------------------\n",
    "# import requests\n",
    "\n",
    "# query = {\"input\": {\"question\": \"what do you know about alzheimer\", \"chat_history\": [(\"hi\", \"I want to know about medical diseases\")]}}\n",
    "# response = requests.get(\"http://0.0.0.0:8000/search\", json=query)\n",
    "\n",
    "# response.json()\n"
   ]
  },
  {
   "cell_type": "code",
   "execution_count": 2,
   "metadata": {},
   "outputs": [],
   "source": [
    "\n",
    "\n",
    "# # method 2:\n",
    "# #---------------------------------------------------------------------------------\n",
    "# from langserve import RemoteRunnable\n",
    "\n",
    "# # SyntaxError: 'await' outside function\n",
    "\n",
    "# remote_runnable = RemoteRunnable(\"http://localhost:8000/search\")\n",
    "# print( remote_runnable.invoke({\"question\": \"what do you know about alzheimer\", \"chat_history\": [(\"hi\", \"I want to know about medical diseases\")]}))\n",
    "\n",
    "# # for chunk in remote_runnable.stream({\"question\": \"what do you know about harrison\", \"chat_history\": [(\"hi\", \"hi\")]}):\n",
    "# #     print(chunk)\n",
    "\n"
   ]
  },
  {
   "cell_type": "code",
   "execution_count": 3,
   "metadata": {},
   "outputs": [],
   "source": [
    "\n",
    "# # method 3:\n",
    "# #---------------------------------------------------------------------------------\n",
    "# import httpx\n",
    "\n",
    "# async def make_request():\n",
    "#     query = {\n",
    "#         \"input\": {\n",
    "#             \"question\": \"what do you know about alzheimer\",\n",
    "#             \"chat_history\": [(\"hi\", \"I want to know about medical diseases\")]\n",
    "#         }\n",
    "#     }\n",
    "#     query = {\"input\": \"what do you know about alzheimer\"}\n",
    "\n",
    "#     async with httpx.AsyncClient() as client:\n",
    "#         response = await client.get(\"http://localhost:8000/search\", params=query)\n",
    "    \n",
    "#     if response.status_code == 200:\n",
    "#         result = response.json()\n",
    "#         print(\"Server response:\", result)\n",
    "#     else:\n",
    "#         print(\"Error:\", response.status_code, response.text)\n",
    "\n",
    "# # Run the event loop to make the asynchronous request\n",
    "# import asyncio\n",
    "# asyncio.run(make_request())\n"
   ]
  },
  {
   "cell_type": "code",
   "execution_count": 4,
   "metadata": {},
   "outputs": [
    {
     "name": "stdout",
     "output_type": "stream",
     "text": [
      "{'output': [{'page_content': '# ArticleTitle\\nEcosystem services: an essential component of sustainable use.\\n AbstractText\\n\\n AuthorList\\nCairns, J\\n ArticleId\\nPMC1519125\\n PubMedPubDate\\n1995-6-1', 'metadata': {}, 'type': 'Document'}, {'page_content': '# ArticleTitle\\nTrees as a Factor in Climate.\\n AbstractText\\n\\n AuthorList\\nSlater, J W\\n ArticleId\\nns-22/545/25-a\\n PubMedPubDate\\n1893-7-14', 'metadata': {}, 'type': 'Document'}, {'page_content': '# ArticleTitle\\n[A turning point in the consideration given to trees and forests in public health policy].\\n AbstractText\\n\\n AuthorList\\nBarthod, Christian, Zmirou-Navier, Denis\\n ArticleId\\n10.3917/spub.190.0007\\n PubMedPubDate\\n2019-6-19', 'metadata': {}, 'type': 'Document'}], 'callback_events': [], 'metadata': {'run_id': 'cb0a050d-c0fa-4381-9e7a-de6dde033b4b'}}\n"
     ]
    }
   ],
   "source": [
    "\n",
    "\n",
    "\n",
    "import requests\n",
    "\n",
    "inputs = {\"input\": \"tree\"}\n",
    "response = requests.post(\"http://localhost:8000/invoke\", json=inputs)\n",
    "\n",
    "print(response.json())\n"
   ]
  },
  {
   "cell_type": "code",
   "execution_count": 6,
   "metadata": {},
   "outputs": [
    {
     "data": {
      "text/plain": [
       "dict_keys(['output', 'callback_events', 'metadata'])"
      ]
     },
     "execution_count": 6,
     "metadata": {},
     "output_type": "execute_result"
    }
   ],
   "source": [
    "dict(response.json()).keys()"
   ]
  },
  {
   "cell_type": "code",
   "execution_count": 17,
   "metadata": {},
   "outputs": [],
   "source": [
    "\n",
    "import requests\n",
    "\n",
    "# inputs = {\"query\": \"sid\"}\n",
    "data = {'query': 'What are the symptoms of alzheimer?'}\n",
    "response = requests.post(\"http://localhost:8000/search\", params=data)\n"
   ]
  },
  {
   "cell_type": "code",
   "execution_count": 21,
   "metadata": {},
   "outputs": [
    {
     "data": {
      "text/plain": [
       "[{'page_content': '# ArticleTitle\\nThe symptoms and behavioral manifestations of dementia.\\n AbstractText\\n\\n AuthorList\\nWells, C E\\n ArticleId\\nMissing ArticleId\\n PubMedPubDate\\n1971-1-1',\n",
       "  'metadata': {},\n",
       "  'type': 'Document'},\n",
       " {'page_content': '# ArticleTitle\\nDementia and a diagnostic dilemma.\\n AbstractText\\n\\n AuthorList\\n\\n ArticleId\\nM1003d\\n PubMedPubDate\\n2003-10-25',\n",
       "  'metadata': {},\n",
       "  'type': 'Document'},\n",
       " {'page_content': '# ArticleTitle\\n[Symptoms of dementia. Fear of memory loss].\\n AbstractText\\n\\n AuthorList\\nImhof, Lorenz\\n ArticleId\\nMissing ArticleId\\n PubMedPubDate\\n2004-1-9',\n",
       "  'metadata': {},\n",
       "  'type': 'Document'}]"
      ]
     },
     "execution_count": 21,
     "metadata": {},
     "output_type": "execute_result"
    }
   ],
   "source": [
    "import json\n",
    "data_list = json.loads(response.content.decode())\n",
    "data_list"
   ]
  },
  {
   "cell_type": "code",
   "execution_count": 34,
   "metadata": {},
   "outputs": [
    {
     "name": "stdout",
     "output_type": "stream",
     "text": [
      "\"Success\"\n"
     ]
    },
    {
     "data": {
      "text/plain": [
       "'{\"answer\":\" I don\\'t know.\",\"documents\":[{\"page_content\":\"# ArticleTitle\\\\nThe symptoms and behavioral manifestations of dementia.\\\\n AbstractText\\\\n\\\\n AuthorList\\\\nWells, C E\\\\n ArticleId\\\\nMissing ArticleId\\\\n PubMedPubDate\\\\n1971-1-1\",\"metadata\":{},\"type\":\"Document\"},{\"page_content\":\"# ArticleTitle\\\\n[Symptoms of dementia. Fear of memory loss].\\\\n AbstractText\\\\n\\\\n AuthorList\\\\nImhof, Lorenz\\\\n ArticleId\\\\nMissing ArticleId\\\\n PubMedPubDate\\\\n2004-1-9\",\"metadata\":{},\"type\":\"Document\"},{\"page_content\":\"# ArticleTitle\\\\nDementia in the elderly: diagnosis and assessment.\\\\n AbstractText\\\\n\\\\n AuthorList\\\\nArie, T\\\\n ArticleId\\\\nPMC1587499\\\\n PubMedPubDate\\\\n1973-12-1\",\"metadata\":{},\"type\":\"Document\"}]}'"
      ]
     },
     "execution_count": 34,
     "metadata": {},
     "output_type": "execute_result"
    }
   ],
   "source": [
    "data = {'llm_name':'OpenAI',\n",
    "        'embedding_name': 'gte',\n",
    "        'temperature':float(0.3) }\n",
    "response = requests.post(\"http://localhost:8000/setvalue\", params=data)\n",
    "print(response.content.decode())\n",
    "response = requests.post(\"http://localhost:8000/search\", params={'query': 'What are the symptoms of alzheimer?'})\n",
    "response.content.decode()"
   ]
  },
  {
   "cell_type": "code",
   "execution_count": 41,
   "metadata": {},
   "outputs": [
    {
     "data": {
      "text/plain": [
       "{'answer': \" I don't know.\",\n",
       " 'documents': [{'page_content': '# ArticleTitle\\nThe symptoms and behavioral manifestations of dementia.\\n AbstractText\\n\\n AuthorList\\nWells, C E\\n ArticleId\\nMissing ArticleId\\n PubMedPubDate\\n1971-1-1',\n",
       "   'metadata': {},\n",
       "   'type': 'Document'},\n",
       "  {'page_content': '# ArticleTitle\\n[Symptoms of dementia. Fear of memory loss].\\n AbstractText\\n\\n AuthorList\\nImhof, Lorenz\\n ArticleId\\nMissing ArticleId\\n PubMedPubDate\\n2004-1-9',\n",
       "   'metadata': {},\n",
       "   'type': 'Document'},\n",
       "  {'page_content': '# ArticleTitle\\nDementia in the elderly: diagnosis and assessment.\\n AbstractText\\n\\n AuthorList\\nArie, T\\n ArticleId\\nPMC1587499\\n PubMedPubDate\\n1973-12-1',\n",
       "   'metadata': {},\n",
       "   'type': 'Document'}]}"
      ]
     },
     "execution_count": 41,
     "metadata": {},
     "output_type": "execute_result"
    }
   ],
   "source": [
    "s = json.loads(response.content.decode())\n",
    "s"
   ]
  },
  {
   "cell_type": "code",
   "execution_count": 46,
   "metadata": {},
   "outputs": [
    {
     "data": {
      "text/plain": [
       "{'page_content': '# ArticleTitle\\nThe symptoms and behavioral manifestations of dementia.\\n AbstractText\\n\\n AuthorList\\nWells, C E\\n ArticleId\\nMissing ArticleId\\n PubMedPubDate\\n1971-1-1',\n",
       " 'metadata': {},\n",
       " 'type': 'Document'}"
      ]
     },
     "execution_count": 46,
     "metadata": {},
     "output_type": "execute_result"
    }
   ],
   "source": [
    "s['documents'][0]"
   ]
  },
  {
   "cell_type": "code",
   "execution_count": null,
   "metadata": {},
   "outputs": [],
   "source": []
  }
 ],
 "metadata": {
  "kernelspec": {
   "display_name": "Python 3",
   "language": "python",
   "name": "python3"
  },
  "language_info": {
   "codemirror_mode": {
    "name": "ipython",
    "version": 3
   },
   "file_extension": ".py",
   "mimetype": "text/x-python",
   "name": "python",
   "nbconvert_exporter": "python",
   "pygments_lexer": "ipython3",
   "version": "3.11.5"
  }
 },
 "nbformat": 4,
 "nbformat_minor": 2
}
